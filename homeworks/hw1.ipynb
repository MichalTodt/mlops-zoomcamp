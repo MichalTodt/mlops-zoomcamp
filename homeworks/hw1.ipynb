{
 "cells": [
  {
   "cell_type": "code",
   "execution_count": 37,
   "metadata": {},
   "outputs": [],
   "source": [
    "import pandas as pd\n",
    "from sklearn.feature_extraction import DictVectorizer\n",
    "from sklearn.linear_model import LinearRegression\n",
    "from sklearn.metrics import mean_squared_error"
   ]
  },
  {
   "cell_type": "code",
   "execution_count": 27,
   "metadata": {},
   "outputs": [],
   "source": [
    "\n",
    "\n",
    "jan = pd.read_parquet('/Users/michaltodt/Documents/Projects/mlops-zoomcamp/data/yellow_tripdata_2023-01.parquet')\n",
    "feb = pd.read_parquet('/Users/michaltodt/Documents/Projects/mlops-zoomcamp/data/yellow_tripdata_2023-02.parquet')\n"
   ]
  },
  {
   "cell_type": "code",
   "execution_count": 28,
   "metadata": {},
   "outputs": [
    {
     "name": "stdout",
     "output_type": "stream",
     "text": [
      "19\n"
     ]
    }
   ],
   "source": [
    "# Q1\n",
    "print(len(jan.columns))"
   ]
  },
  {
   "cell_type": "code",
   "execution_count": 29,
   "metadata": {},
   "outputs": [
    {
     "name": "stdout",
     "output_type": "stream",
     "text": [
      "0 days 00:42:35.661074\n",
      "0.5943512333333333\n"
     ]
    }
   ],
   "source": [
    "# Q2\n",
    "\n",
    "jan[\"duration\"] =  jan[\"tpep_dropoff_datetime\"] - jan[\"tpep_pickup_datetime\"]\n",
    "print(jan[\"duration\"].std())\n",
    "print(35.661074/60)"
   ]
  },
  {
   "cell_type": "code",
   "execution_count": 30,
   "metadata": {},
   "outputs": [
    {
     "name": "stdout",
     "output_type": "stream",
     "text": [
      "0.9812202822125979\n"
     ]
    }
   ],
   "source": [
    "# Q3\n",
    "\n",
    "prev = jan.shape[0]\n",
    "jan = jan.loc[(jan[\"duration\"] >= pd.Timedelta(minutes=1)) & (jan[\"duration\"] <= pd.Timedelta(hours=1))]\n",
    "new = jan.shape[0]\n",
    "\n",
    "print(new / prev)\n",
    "\n"
   ]
  },
  {
   "cell_type": "code",
   "execution_count": 38,
   "metadata": {},
   "outputs": [
    {
     "name": "stdout",
     "output_type": "stream",
     "text": [
      "(3009173, 515)\n"
     ]
    }
   ],
   "source": [
    "# Q4\n",
    "jan[\"DOLocationID\"] = jan[\"DOLocationID\"].astype(str)\n",
    "jan[\"PULocationID\"] = jan[\"PULocationID\"].astype(str)\n",
    "\n",
    "train_dicts = jan.loc[: , [\"PULocationID\", \"DOLocationID\"]].to_dict(orient='records')\n",
    "\n",
    "dv = DictVectorizer()\n",
    "X_train = dv.fit_transform(train_dicts)\n",
    "\n",
    "print(X_train.shape)"
   ]
  },
  {
   "cell_type": "code",
   "execution_count": 40,
   "metadata": {},
   "outputs": [
    {
     "name": "stderr",
     "output_type": "stream",
     "text": [
      "/Users/michaltodt/Documents/Projects/mlops-zoomcamp/venv/lib/python3.12/site-packages/sklearn/metrics/_regression.py:492: FutureWarning: 'squared' is deprecated in version 1.4 and will be removed in 1.6. To calculate the root mean squared error, use the function'root_mean_squared_error'.\n",
      "  warnings.warn(\n"
     ]
    },
    {
     "data": {
      "text/plain": [
       "7.649261927686161"
      ]
     },
     "execution_count": 40,
     "metadata": {},
     "output_type": "execute_result"
    }
   ],
   "source": [
    "# Q5\n",
    "\n",
    "y_train = (jan[\"duration\"].dt.total_seconds() / 60).values\n",
    "\n",
    "lr = LinearRegression()\n",
    "lr.fit(X_train, y_train)\n",
    "\n",
    "y_pred = lr.predict(X_train)\n",
    "\n",
    "mean_squared_error(y_train, y_pred, squared=False)"
   ]
  },
  {
   "cell_type": "code",
   "execution_count": 46,
   "metadata": {},
   "outputs": [
    {
     "name": "stderr",
     "output_type": "stream",
     "text": [
      "/Users/michaltodt/Documents/Projects/mlops-zoomcamp/venv/lib/python3.12/site-packages/sklearn/metrics/_regression.py:492: FutureWarning: 'squared' is deprecated in version 1.4 and will be removed in 1.6. To calculate the root mean squared error, use the function'root_mean_squared_error'.\n",
      "  warnings.warn(\n"
     ]
    },
    {
     "data": {
      "text/plain": [
       "13.322327465985968"
      ]
     },
     "execution_count": 46,
     "metadata": {},
     "output_type": "execute_result"
    }
   ],
   "source": [
    "# Q6\n",
    "\n",
    "feb[\"duration\"] =  feb[\"tpep_dropoff_datetime\"] - feb[\"tpep_pickup_datetime\"]\n",
    "feb = feb.loc[(feb[\"duration\"] >= pd.Timedelta(minutes=1)) & (feb[\"duration\"] <= pd.Timedelta(hours=1))]\n",
    "\n",
    "\n",
    "val_dicts = feb.loc[: , [\"PULocationID\", \"DOLocationID\"]].to_dict(orient='records')\n",
    "X_val = dv.transform(val_dicts)\n",
    "\n",
    "\n",
    "\n",
    "y_val = (feb[\"duration\"].dt.total_seconds() / 60).values\n",
    "\n",
    "y_pred = lr.predict(X_val)\n",
    "\n",
    "mean_squared_error(y_val, y_pred, squared=False)"
   ]
  }
 ],
 "metadata": {
  "kernelspec": {
   "display_name": "venv",
   "language": "python",
   "name": "python3"
  },
  "language_info": {
   "codemirror_mode": {
    "name": "ipython",
    "version": 3
   },
   "file_extension": ".py",
   "mimetype": "text/x-python",
   "name": "python",
   "nbconvert_exporter": "python",
   "pygments_lexer": "ipython3",
   "version": "3.12.2"
  }
 },
 "nbformat": 4,
 "nbformat_minor": 2
}
